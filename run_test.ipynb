{
 "cells": [
  {
   "cell_type": "code",
   "execution_count": 1,
   "metadata": {},
   "outputs": [
    {
     "name": "stdout",
     "output_type": "stream",
     "text": [
      "[2021-11-07 07:22:25,004][__main__] line42 [INFO] git hash is: f7fb0df\n",
      "[2021-11-07 07:22:25,037][__main__] line46 [INFO] ::: set debug mode :::\n",
      "[2021-11-07 07:22:25,087][__main__] line56 [INFO] meta_df: (50, 16)\n",
      "[2021-11-07 07:22:25,093][__main__] line73 [INFO] Fold0\n",
      "[2021-11-07 07:22:25,100][__main__] line81 [INFO] trn_df: (20, 16)\n",
      "[2021-11-07 07:22:25,102][__main__] line82 [INFO] val_df: (30, 16)\n",
      "[2021-11-07 07:22:25,222][timm.models.helpers] line183 [INFO] Loading pretrained weights from url (https://github.com/rwightman/pytorch-image-models/releases/download/v0.1-effv2-weights/tf_efficientnetv2_b0-c7cc451f.pth)\n",
      "11\n"
     ]
    },
    {
     "data": {
      "text/html": [
       "\n",
       "    <div>\n",
       "        <style>\n",
       "            /* Turns off some styling */\n",
       "            progress {\n",
       "                /* gets rid of default border in Firefox and Opera. */\n",
       "                border: none;\n",
       "                /* Needs to be in here for Safari polyfill so background images work as expected. */\n",
       "                background-size: auto;\n",
       "            }\n",
       "            .progress-bar-interrupted, .progress-bar-interrupted::-webkit-progress-bar {\n",
       "                background: #F44336;\n",
       "            }\n",
       "        </style>\n",
       "      <progress value='6' class='' max='10', style='width:300px; height:20px; vertical-align: middle;'></progress>\n",
       "      60.00% [6/10 00:17<00:11]\n",
       "    </div>\n",
       "    \n",
       "EPOCH: 01, Train loss:    0.68600, Valid loss:    0.70003, train loss(RMSE):   54.13023, valid loss(RMSE):   51.88100<p>EPOCH: 02, Train loss:    0.68600, Valid loss:    0.70125, train loss(RMSE):   54.13023, valid loss(RMSE):   53.30402<p>EPOCH: 03, Train loss:    0.68600, Valid loss:    0.70288, train loss(RMSE):   54.13023, valid loss(RMSE):   55.06589<p>EPOCH: 04, Train loss:    0.68600, Valid loss:    0.70369, train loss(RMSE):   54.13023, valid loss(RMSE):   56.72302<p>EPOCH: 05, Train loss:    0.68600, Valid loss:    0.70398, train loss(RMSE):   54.13023, valid loss(RMSE):   58.06362<p>EPOCH: 06, Train loss:    0.68600, Valid loss:    0.70408, train loss(RMSE):   54.13023, valid loss(RMSE):   59.11105<p>\n",
       "\n",
       "    <div>\n",
       "        <style>\n",
       "            /* Turns off some styling */\n",
       "            progress {\n",
       "                /* gets rid of default border in Firefox and Opera. */\n",
       "                border: none;\n",
       "                /* Needs to be in here for Safari polyfill so background images work as expected. */\n",
       "                background-size: auto;\n",
       "            }\n",
       "            .progress-bar-interrupted, .progress-bar-interrupted::-webkit-progress-bar {\n",
       "                background: #F44336;\n",
       "            }\n",
       "        </style>\n",
       "      <progress value='1' class='' max='1', style='width:300px; height:20px; vertical-align: middle;'></progress>\n",
       "      100.00% [1/1 00:00<00:00]\n",
       "    </div>\n",
       "    "
      ],
      "text/plain": [
       "<IPython.core.display.HTML object>"
      ]
     },
     "metadata": {},
     "output_type": "display_data"
    },
    {
     "name": "stdout",
     "output_type": "stream",
     "text": [
      "[2021-11-07 07:22:25,318][__main__] line112 [INFO] ::: epoch: 1/11 :::\n",
      "[2021-11-07 07:22:29,027][__main__] line123 [INFO] loss_train: 0.6860, loss_valid: 0.7000,loss_rmse_train: 54.1302, loss_rmse_valid: 51.8810\n",
      "Validation loss decreased (inf --> 0.700033).  Saving model ...\n"
     ]
    },
    {
     "data": {
      "image/png": "[encoded data removed]",
      "text/plain": [
       "<Figure size 432x288 with 1 Axes>"
      ]
     },
     "metadata": {},
     "output_type": "display_data"
    },
    {
     "name": "stdout",
     "output_type": "stream",
     "text": [
      "[2021-11-07 07:22:29,735][__main__] line112 [INFO] ::: epoch: 2/11 :::\n",
      "[2021-11-07 07:22:33,046][__main__] line123 [INFO] loss_train: 0.6860, loss_valid: 0.7013,loss_rmse_train: 54.1302, loss_rmse_valid: 53.3040\n",
      "EarlyStopping counter: 1 out of 6\n",
      "[2021-11-07 07:22:33,251][__main__] line112 [INFO] ::: epoch: 3/11 :::\n",
      "[2021-11-07 07:22:35,781][__main__] line123 [INFO] loss_train: 0.6860, loss_valid: 0.7029,loss_rmse_train: 54.1302, loss_rmse_valid: 55.0659\n",
      "EarlyStopping counter: 2 out of 6\n",
      "[2021-11-07 07:22:35,942][__main__] line112 [INFO] ::: epoch: 4/11 :::\n",
      "[2021-11-07 07:22:38,261][__main__] line123 [INFO] loss_train: 0.6860, loss_valid: 0.7037,loss_rmse_train: 54.1302, loss_rmse_valid: 56.7230\n",
      "EarlyStopping counter: 3 out of 6\n",
      "[2021-11-07 07:22:38,413][__main__] line112 [INFO] ::: epoch: 5/11 :::\n",
      "[2021-11-07 07:22:40,752][__main__] line123 [INFO] loss_train: 0.6860, loss_valid: 0.7040,loss_rmse_train: 54.1302, loss_rmse_valid: 58.0636\n",
      "EarlyStopping counter: 4 out of 6\n",
      "[2021-11-07 07:22:40,910][__main__] line112 [INFO] ::: epoch: 6/11 :::\n",
      "[2021-11-07 07:22:43,004][__main__] line123 [INFO] loss_train: 0.6860, loss_valid: 0.7041,loss_rmse_train: 54.1302, loss_rmse_valid: 59.1111\n",
      "EarlyStopping counter: 5 out of 6\n",
      "[2021-11-07 07:22:43,158][__main__] line112 [INFO] ::: epoch: 7/11 :::\n",
      "[2021-11-07 07:22:45,361][__main__] line123 [INFO] loss_train: 0.6860, loss_valid: 0.7041,loss_rmse_train: 54.1302, loss_rmse_valid: 59.9677\n",
      "EarlyStopping counter: 6 out of 6\n",
      "[2021-11-07 07:22:45,364][__main__] line136 [INFO] Early stopping\n",
      "[2021-11-07 07:22:45,368][__main__] line165 [INFO] best_loss: 0.000000\n",
      "[2021-11-07 07:22:45,372][__main__] line73 [INFO] Fold1\n",
      "[2021-11-07 07:22:45,380][__main__] line81 [INFO] trn_df: (30, 16)\n",
      "[2021-11-07 07:22:45,382][__main__] line82 [INFO] val_df: (20, 16)\n",
      "[2021-11-07 07:22:45,548][timm.models.helpers] line183 [INFO] Loading pretrained weights from url (https://github.com/rwightman/pytorch-image-models/releases/download/v0.1-effv2-weights/tf_efficientnetv2_b0-c7cc451f.pth)\n",
      "11\n"
     ]
    },
    {
     "data": {
      "text/html": [
       "EPOCH: 01, Train loss:    0.70544, Valid loss:    0.66565, train loss(RMSE):   58.90171, valid loss(RMSE):   61.98774<p>EPOCH: 02, Train loss:    0.70544, Valid loss:    0.66253, train loss(RMSE):   58.90170, valid loss(RMSE):   61.47175<p>EPOCH: 03, Train loss:    0.70544, Valid loss:    0.65943, train loss(RMSE):   58.90171, valid loss(RMSE):   61.25963<p>EPOCH: 04, Train loss:    0.70544, Valid loss:    0.65699, train loss(RMSE):   58.90171, valid loss(RMSE):   61.41798<p>EPOCH: 05, Train loss:    0.70544, Valid loss:    0.65533, train loss(RMSE):   58.90171, valid loss(RMSE):   61.98841<p>EPOCH: 06, Train loss:    0.70544, Valid loss:    0.65556, train loss(RMSE):   58.90171, valid loss(RMSE):   63.01883<p>EPOCH: 07, Train loss:    0.70544, Valid loss:    0.65524, train loss(RMSE):   58.90171, valid loss(RMSE):   63.88037<p>EPOCH: 08, Train loss:    0.70544, Valid loss:    0.65555, train loss(RMSE):   58.90171, valid loss(RMSE):   64.69437<p>EPOCH: 09, Train loss:    0.70544, Valid loss:    0.65607, train loss(RMSE):   58.90171, valid loss(RMSE):   65.33816<p>EPOCH: 10, Train loss:    0.70544, Valid loss:    0.65635, train loss(RMSE):   58.90171, valid loss(RMSE):   65.76827"
      ],
      "text/plain": [
       "<IPython.core.display.HTML object>"
      ]
     },
     "metadata": {},
     "output_type": "display_data"
    },
    {
     "name": "stdout",
     "output_type": "stream",
     "text": [
      "[2021-11-07 07:22:45,609][__main__] line112 [INFO] ::: epoch: 1/11 :::\n",
      "[2021-11-07 07:23:43,290][__main__] line123 [INFO] loss_train: 0.7054, loss_valid: 0.6656,loss_rmse_train: 58.9017, loss_rmse_valid: 61.9877\n",
      "Validation loss decreased (inf --> 0.665648).  Saving model ...\n"
     ]
    },
    {
     "data": {
      "image/png": "[encoded data removed]",
      "text/plain": [
       "<Figure size 432x288 with 1 Axes>"
      ]
     },
     "metadata": {},
     "output_type": "display_data"
    },
    {
     "name": "stdout",
     "output_type": "stream",
     "text": [
      "[2021-11-07 07:23:44,105][__main__] line112 [INFO] ::: epoch: 2/11 :::\n",
      "[2021-11-07 07:23:48,053][__main__] line123 [INFO] loss_train: 0.7054, loss_valid: 0.6625,loss_rmse_train: 58.9017, loss_rmse_valid: 61.4718\n",
      "Validation loss decreased (0.665648 --> 0.662528).  Saving model ...\n",
      "[2021-11-07 07:23:48,567][__main__] line112 [INFO] ::: epoch: 3/11 :::\n",
      "[2021-11-07 07:23:52,093][__main__] line123 [INFO] loss_train: 0.7054, loss_valid: 0.6594,loss_rmse_train: 58.9017, loss_rmse_valid: 61.2596\n",
      "Validation loss decreased (0.662528 --> 0.659435).  Saving model ...\n",
      "[2021-11-07 07:23:52,822][__main__] line112 [INFO] ::: epoch: 4/11 :::\n",
      "[2021-11-07 07:23:55,544][__main__] line123 [INFO] loss_train: 0.7054, loss_valid: 0.6570,loss_rmse_train: 58.9017, loss_rmse_valid: 61.4180\n",
      "Validation loss decreased (0.659435 --> 0.656990).  Saving model ...\n",
      "[2021-11-07 07:23:56,066][__main__] line112 [INFO] ::: epoch: 5/11 :::\n",
      "[2021-11-07 07:23:58,654][__main__] line123 [INFO] loss_train: 0.7054, loss_valid: 0.6553,loss_rmse_train: 58.9017, loss_rmse_valid: 61.9884\n",
      "Validation loss decreased (0.656990 --> 0.655333).  Saving model ...\n",
      "[2021-11-07 07:23:59,150][__main__] line112 [INFO] ::: epoch: 6/11 :::\n",
      "[2021-11-07 07:24:01,402][__main__] line123 [INFO] loss_train: 0.7054, loss_valid: 0.6556,loss_rmse_train: 58.9017, loss_rmse_valid: 63.0188\n",
      "EarlyStopping counter: 1 out of 6\n",
      "[2021-11-07 07:24:01,556][__main__] line112 [INFO] ::: epoch: 7/11 :::\n",
      "[2021-11-07 07:24:04,450][__main__] line123 [INFO] loss_train: 0.7054, loss_valid: 0.6552,loss_rmse_train: 58.9017, loss_rmse_valid: 63.8804\n",
      "Validation loss decreased (0.655333 --> 0.655236).  Saving model ...\n",
      "[2021-11-07 07:24:05,007][__main__] line112 [INFO] ::: epoch: 8/11 :::\n",
      "[2021-11-07 07:24:07,874][__main__] line123 [INFO] loss_train: 0.7054, loss_valid: 0.6555,loss_rmse_train: 58.9017, loss_rmse_valid: 64.6944\n",
      "EarlyStopping counter: 1 out of 6\n",
      "[2021-11-07 07:24:08,053][__main__] line112 [INFO] ::: epoch: 9/11 :::\n",
      "[2021-11-07 07:24:10,416][__main__] line123 [INFO] loss_train: 0.7054, loss_valid: 0.6561,loss_rmse_train: 58.9017, loss_rmse_valid: 65.3382\n",
      "EarlyStopping counter: 2 out of 6\n",
      "[2021-11-07 07:24:10,574][__main__] line112 [INFO] ::: epoch: 10/11 :::\n",
      "[2021-11-07 07:24:12,824][__main__] line123 [INFO] loss_train: 0.7054, loss_valid: 0.6564,loss_rmse_train: 58.9017, loss_rmse_valid: 65.7683\n",
      "EarlyStopping counter: 3 out of 6\n",
      "[2021-11-07 07:24:13,094][__main__] line165 [INFO] best_loss: 0.655236\n",
      "[2021-11-07 07:24:13,160][__main__] line178 [INFO] ::: success :::\n",
      "\n",
      "\n",
      "\n"
     ]
    }
   ],
   "source": [
    "import IPython\n",
    "%run pipeline_simple.py"
   ]
  },
  {
   "cell_type": "code",
   "execution_count": null,
   "metadata": {},
   "outputs": [],
   "source": []
  }
 ],
 "metadata": {
  "interpreter": {
   "hash": "98b0a9b7b4eaaa670588a142fd0a9b87eaafe866f1db4228be72b4211d12040f"
  },
  "kernelspec": {
   "display_name": "Python 3.6.6 64-bit ('base': conda)",
   "name": "python3"
  },
  "language_info": {
   "codemirror_mode": {
    "name": "ipython",
    "version": 3
   },
   "file_extension": ".py",
   "mimetype": "text/x-python",
   "name": "python",
   "nbconvert_exporter": "python",
   "pygments_lexer": "ipython3",
   "version": "3.6.6"
  },
  "orig_nbformat": 4
 },
 "nbformat": 4,
 "nbformat_minor": 2
}
