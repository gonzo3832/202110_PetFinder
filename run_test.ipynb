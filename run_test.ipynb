{
 "cells": [
  {
   "cell_type": "code",
   "execution_count": 1,
   "metadata": {},
   "outputs": [
    {
     "name": "stdout",
     "output_type": "stream",
     "text": [
      "[2021-11-07 07:40:03,784][__main__] line42 [INFO] git hash is: 59eac77\n",
      "[2021-11-07 07:40:03,827][__main__] line46 [INFO] ::: set debug mode :::\n",
      "[2021-11-07 07:40:03,926][__main__] line56 [INFO] meta_df: (50, 16)\n",
      "[2021-11-07 07:40:03,937][__main__] line73 [INFO] Fold0\n",
      "[2021-11-07 07:40:03,952][__main__] line81 [INFO] trn_df: (20, 16)\n",
      "[2021-11-07 07:40:03,956][__main__] line82 [INFO] val_df: (30, 16)\n",
      "[2021-11-07 07:40:04,119][timm.models.helpers] line183 [INFO] Loading pretrained weights from url (https://github.com/rwightman/pytorch-image-models/releases/download/v0.1-effv2-weights/tf_efficientnetv2_b0-c7cc451f.pth)\n",
      "3\n"
     ]
    },
    {
     "data": {
      "text/html": [
       "EPOCH: 01, Train loss:    0.68600, Valid loss:    0.70003, train loss(RMSE):   54.13023, valid loss(RMSE):   51.88100<p>EPOCH: 02, Train loss:    0.68600, Valid loss:    0.70125, train loss(RMSE):   54.13023, valid loss(RMSE):   53.30402"
      ],
      "text/plain": [
       "<IPython.core.display.HTML object>"
      ]
     },
     "metadata": {},
     "output_type": "display_data"
    },
    {
     "name": "stdout",
     "output_type": "stream",
     "text": [
      "[2021-11-07 07:40:05,391][__main__] line112 [INFO] ::: epoch: 1/3 :::\n",
      "[2021-11-07 07:40:14,880][__main__] line123 [INFO] loss_train: 0.6860, loss_valid: 0.7000,loss_rmse_train: 54.1302, loss_rmse_valid: 51.8810\n",
      "Validation loss decreased (inf --> 0.700033).  Saving model ...\n"
     ]
    },
    {
     "data": {
      "image/png": "[encoded data removed]",
      "text/plain": [
       "<Figure size 432x288 with 1 Axes>"
      ]
     },
     "metadata": {},
     "output_type": "display_data"
    },
    {
     "name": "stdout",
     "output_type": "stream",
     "text": [
      "[2021-11-07 07:40:15,747][__main__] line112 [INFO] ::: epoch: 2/3 :::\n",
      "[2021-11-07 07:40:18,649][__main__] line123 [INFO] loss_train: 0.6860, loss_valid: 0.7013,loss_rmse_train: 54.1302, loss_rmse_valid: 53.3040\n",
      "EarlyStopping counter: 1 out of 6\n",
      "[2021-11-07 07:40:19,001][__main__] line165 [INFO] best_loss: 0.000000\n",
      "[2021-11-07 07:40:19,003][__main__] line73 [INFO] Fold1\n",
      "[2021-11-07 07:40:19,011][__main__] line81 [INFO] trn_df: (30, 16)\n",
      "[2021-11-07 07:40:19,013][__main__] line82 [INFO] val_df: (20, 16)\n",
      "[2021-11-07 07:40:19,149][timm.models.helpers] line183 [INFO] Loading pretrained weights from url (https://github.com/rwightman/pytorch-image-models/releases/download/v0.1-effv2-weights/tf_efficientnetv2_b0-c7cc451f.pth)\n",
      "3\n"
     ]
    },
    {
     "data": {
      "text/html": [
       "EPOCH: 01, Train loss:    0.68663, Valid loss:    0.65662, train loss(RMSE):   55.68726, valid loss(RMSE):   56.26061<p>EPOCH: 02, Train loss:    0.68663, Valid loss:    0.65648, train loss(RMSE):   55.68727, valid loss(RMSE):   56.34672"
      ],
      "text/plain": [
       "<IPython.core.display.HTML object>"
      ]
     },
     "metadata": {},
     "output_type": "display_data"
    },
    {
     "name": "stdout",
     "output_type": "stream",
     "text": [
      "[2021-11-07 07:40:19,241][__main__] line112 [INFO] ::: epoch: 1/3 :::\n",
      "[2021-11-07 07:40:22,609][__main__] line123 [INFO] loss_train: 0.6866, loss_valid: 0.6566,loss_rmse_train: 55.6873, loss_rmse_valid: 56.2606\n",
      "Validation loss decreased (inf --> 0.656615).  Saving model ...\n"
     ]
    },
    {
     "data": {
      "image/png": "[encoded data removed]",
      "text/plain": [
       "<Figure size 432x288 with 1 Axes>"
      ]
     },
     "metadata": {},
     "output_type": "display_data"
    },
    {
     "name": "stdout",
     "output_type": "stream",
     "text": [
      "[2021-11-07 07:40:23,366][__main__] line112 [INFO] ::: epoch: 2/3 :::\n",
      "[2021-11-07 07:40:26,062][__main__] line123 [INFO] loss_train: 0.6866, loss_valid: 0.6565,loss_rmse_train: 55.6873, loss_rmse_valid: 56.3467\n",
      "Validation loss decreased (0.656615 --> 0.656479).  Saving model ...\n",
      "[2021-11-07 07:40:26,818][__main__] line165 [INFO] best_loss: 0.656479\n",
      "[2021-11-07 07:40:26,894][__main__] line178 [INFO] ::: success :::\n",
      "\n",
      "\n",
      "\n"
     ]
    }
   ],
   "source": [
    "import IPython\n",
    "%run pipeline_simple.py"
   ]
  },
  {
   "cell_type": "code",
   "execution_count": null,
   "metadata": {},
   "outputs": [],
   "source": []
  }
 ],
 "metadata": {
  "interpreter": {
   "hash": "98b0a9b7b4eaaa670588a142fd0a9b87eaafe866f1db4228be72b4211d12040f"
  },
  "kernelspec": {
   "display_name": "Python 3.6.6 64-bit ('base': conda)",
   "name": "python3"
  },
  "language_info": {
   "codemirror_mode": {
    "name": "ipython",
    "version": 3
   },
   "file_extension": ".py",
   "mimetype": "text/x-python",
   "name": "python",
   "nbconvert_exporter": "python",
   "pygments_lexer": "ipython3",
   "version": "3.6.6"
  },
  "orig_nbformat": 4
 },
 "nbformat": 4,
 "nbformat_minor": 2
}
